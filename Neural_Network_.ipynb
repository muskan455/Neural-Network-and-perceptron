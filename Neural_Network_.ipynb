{
  "nbformat": 4,
  "nbformat_minor": 0,
  "metadata": {
    "colab": {
      "provenance": []
    },
    "kernelspec": {
      "name": "python3",
      "display_name": "Python 3"
    },
    "language_info": {
      "name": "python"
    }
  },
  "cells": [
    {
      "cell_type": "markdown",
      "source": [
        "**Question 1:  What is Deep Learning? Briefly describe how it evolved and how it differs\n",
        "from traditional machine learning.**"
      ],
      "metadata": {
        "id": "f0d5ylNwd7qi"
      }
    },
    {
      "cell_type": "markdown",
      "metadata": {
        "id": "c69d3575"
      },
      "source": [
        "**Deep Learning Explained:**\n",
        "\n",
        "Deep learning is a subfield of machine learning that uses artificial neural networks with multiple layers (hence \"deep\") to learn hierarchical representations of data.\n",
        "\n",
        "**Evolution:**\n",
        "\n",
        "* **Early Days (Perceptrons):** The concept of artificial neurons dates back to the 1940s and 50s with models like the Perceptron. However, these early models were limited in their ability to solve complex problems.\n",
        "* **The AI Winter:** Progress stalled in the 1970s and 80s due to limitations in computational power and data availability, leading to a period known as the \"AI Winter.\"\n",
        "* **Resurgence (Backpropagation):** The development of the backpropagation algorithm in the 1980s allowed for the training of multi-layered neural networks, paving the way for renewed interest.\n",
        "* **Modern Era (Big Data and GPUs):** The explosion of data and the availability of powerful graphics processing units (GPUs) in recent years have been crucial catalysts for the success of deep learning. These factors enabled the training of very large and complex deep learning models.\n",
        "\n",
        "**Differences from Traditional Machine Learning:**\n",
        "\n",
        "* **Feature Engineering:** Traditional machine learning often requires manual feature engineering, where domain experts extract relevant features from raw data. Deep learning, on the other hand, can automatically learn hierarchical features directly from the data.\n",
        "* **Data Requirements:** Deep learning models typically require vast amounts of data to perform well, while some traditional machine learning algorithms can work with smaller datasets.\n",
        "* **Model Complexity:** Deep learning models are generally more complex than traditional machine learning models, with many layers and parameters. This complexity allows them to learn intricate patterns but also makes them more computationally expensive to train.\n",
        "* **Interpretability:** Traditional machine learning models are often more interpretable, meaning it's easier to understand how they arrive at their predictions. Deep learning models are often considered \"black boxes\" due to their complexity."
      ]
    },
    {
      "cell_type": "markdown",
      "source": [
        "**Question 2: Explain the basic architecture and functioning of a Perceptron. What are its\n",
        "limitations?**"
      ],
      "metadata": {
        "id": "rz6a1VTqeQe0"
      }
    },
    {
      "cell_type": "markdown",
      "metadata": {
        "id": "0fe69613"
      },
      "source": [
        "**Perceptron Explained:**\n",
        "\n",
        "A Perceptron is the simplest type of artificial neural network. It is a linear classifier that takes multiple binary inputs and produces a single binary output.\n",
        "\n",
        "**Architecture:**\n",
        "\n",
        "* **Inputs:** The Perceptron receives one or more binary inputs (0 or 1).\n",
        "* **Weights:** Each input is associated with a weight, which represents the importance of that input.\n",
        "* **Bias:** A bias term is added to the weighted sum of inputs.\n",
        "* **Activation Function:** The weighted sum of inputs and the bias are passed through an activation function (typically a step function) that outputs either 0 or 1.\n",
        "\n",
        "**Functioning:**\n",
        "\n",
        "1. The Perceptron calculates the weighted sum of its inputs: `sum = (input1 * weight1) + (input2 * weight2) + ... + bias`.\n",
        "2. The sum is then passed through the activation function.\n",
        "3. If the sum is greater than or equal to a certain threshold (often 0), the output is 1; otherwise, the output is 0.\n",
        "\n",
        "**Limitations:**\n",
        "\n",
        "* **Linear Separability:** The most significant limitation of a Perceptron is that it can only solve linearly separable problems. This means it can only classify data that can be divided by a single straight line (or hyperplane in higher dimensions). It cannot solve problems like the XOR problem, which require a non-linear decision boundary.\n",
        "* **Binary Outputs:** A basic Perceptron can only produce binary outputs, making it unsuitable for problems that require multi-class classification or regression.\n",
        "* **Manual Weight Adjustment:** In the early days, the weights of a Perceptron were often adjusted manually. While learning algorithms like the Perceptron learning rule were developed, they were limited in their ability to handle complex data."
      ]
    },
    {
      "cell_type": "markdown",
      "source": [
        "**Question 3: Describe the purpose of activation function in neural networks. Compare\n",
        "Sigmoid, ReLU, and Tanh functions**"
      ],
      "metadata": {
        "id": "S9vx2bEMechE"
      }
    },
    {
      "cell_type": "code",
      "source": [],
      "metadata": {
        "id": "4ITMJOIofMMh"
      },
      "execution_count": null,
      "outputs": []
    },
    {
      "cell_type": "markdown",
      "metadata": {
        "id": "8682fde4"
      },
      "source": [
        "**Activation Functions Explained:**\n",
        "\n",
        "Activation functions are crucial components of artificial neural networks. They introduce non-linearity into the network, allowing it to learn complex patterns and relationships in data that linear models cannot capture. Without activation functions, a neural network would simply be a series of linear transformations, regardless of the number of layers, and would only be able to solve linearly separable problems, similar to a single Perceptron.\n",
        "\n",
        "Here are the key purposes of activation functions:\n",
        "\n",
        "*   **Introducing Non-linearity:** This is the primary purpose. Real-world data is often non-linear, and activation functions enable the network to model these complex relationships.\n",
        "*   **Determining the Output of a Neuron:** The activation function takes the weighted sum of inputs and the bias as input and produces the output of a neuron.\n",
        "*   **Enabling Backpropagation:** Activation functions allow for the calculation of gradients during the backpropagation process, which is essential for training the network by updating the weights and biases."
      ]
    },
    {
      "cell_type": "markdown",
      "metadata": {
        "id": "3d0c156a"
      },
      "source": [
        "**Comparison of Sigmoid, ReLU, and Tanh Functions:**\n",
        "\n",
        "Here's a comparison of three common activation functions:\n",
        "\n",
        "*   **Sigmoid:**\n",
        "    *   **Formula:** $\\sigma(x) = \\frac{1}{1 + e^{-x}}$\n",
        "    *   **Output Range:** (0, 1)\n",
        "    *   **Pros:** Outputs are normalized between 0 and 1, which can be useful for probability-based outputs. It's a smooth, differentiable function.\n",
        "    *   **Cons:** Suffers from the \"vanishing gradient\" problem, especially for very large or very small inputs, which can make training deep networks difficult. Outputs are not zero-centered, which can affect the efficiency of gradient descent.\n",
        "    *   **Use Cases:** Often used in the output layer for binary classification problems.\n",
        "\n",
        "*   **ReLU (Rectified Linear Unit):**\n",
        "    *   **Formula:** $f(x) = \\max(0, x)$\n",
        "    *   **Output Range:** [0, $\\infty$)\n",
        "    *   **Pros:** Simple and computationally efficient. Helps to alleviate the vanishing gradient problem compared to Sigmoid and Tanh. Leads to faster training in many cases.\n",
        "    *   **Cons:** The \"dying ReLU\" problem can occur where neurons get stuck in a state where they always output 0 and never activate, effectively becoming useless. Not zero-centered.\n",
        "    *   **Use Cases:** Very widely used in the hidden layers of deep neural networks.\n",
        "\n",
        "*   **Tanh (Hyperbolic Tangent):**\n",
        "    *   **Formula:** $\\tanh(x) = \\frac{e^x - e^{-x}}{e^x + e^{-x}}$\n",
        "    *   **Output Range:** (-1, 1)\n",
        "    *   **Pros:** Zero-centered output, which can make training more stable than with Sigmoid. It's a smooth, differentiable function.\n",
        "    *   **Cons:** Still suffers from the vanishing gradient problem, though to a lesser extent than Sigmoid.\n",
        "    *   **Use Cases:** Often used in the hidden layers of neural networks, sometimes as an alternative to ReLU.\n",
        "\n",
        "**Summary Table:**\n",
        "\n",
        "| Feature          | Sigmoid        | ReLU           | Tanh           |\n",
        "|------------------|----------------|----------------|----------------|\n",
        "| Output Range     | (0, 1)         | [0, $\\infty$)  | (-1, 1)        |\n",
        "| Zero-Centered    | No             | No             | Yes            |\n",
        "| Vanishing Gradient | Severe         | Less Severe    | Moderate       |\n",
        "| Computation      | Moderate       | Simple         | Moderate       |\n",
        "| Dying Neuron     | No             | Yes            | No             |"
      ]
    },
    {
      "cell_type": "markdown",
      "source": [
        "**Question 4: What is the difference between Loss function and Cost function in neural\n",
        "networks? Provide examples**"
      ],
      "metadata": {
        "id": "uHZuepQK1pkf"
      }
    },
    {
      "cell_type": "markdown",
      "metadata": {
        "id": "815ef8fe"
      },
      "source": [
        "**Loss Function vs. Cost Function:**\n",
        "\n",
        "While the terms \"loss function\" and \"cost function\" are often used interchangeably, there's a subtle distinction in the context of neural networks and machine learning:\n",
        "\n",
        "*   **Loss Function (or Error Function):** This function measures the error for a **single training example**. It quantifies how far the predicted output of the neural network is from the actual target output for that specific input.\n",
        "*   **Cost Function:** This function measures the overall error across the **entire training dataset**. It's typically the average of the loss functions for all the training examples. The goal of training a neural network is to minimize this cost function.\n",
        "\n",
        "Think of it this way: the loss function tells you how bad the network's prediction is for one picture, while the cost function tells you how bad it is on average for all the pictures in your training set.\n",
        "\n",
        "The term \"**objective function**\" is a more general term that can refer to either a loss function or a cost function, or any function that a model is trying to minimize or maximize during training. In the context of training a neural network, the objective is usually to minimize the cost function."
      ]
    },
    {
      "cell_type": "markdown",
      "metadata": {
        "id": "2922236e"
      },
      "source": [
        "**Examples:**\n",
        "\n",
        "Here are some common examples of loss and cost functions used in neural networks:\n",
        "\n",
        "*   **Mean Squared Error (MSE):**\n",
        "    *   **Loss Function:** For a single example, the squared difference between the predicted output ($\\hat{y}$) and the actual output ($y$): $L(y, \\hat{y}) = (y - \\hat{y})^2$\n",
        "    *   **Cost Function:** The average of the squared differences over all $m$ training examples: $J(\\theta) = \\frac{1}{m} \\sum_{i=1}^{m} (y^{(i)} - \\hat{y}^{(i)})^2$. MSE is commonly used in regression problems.\n",
        "\n",
        "*   **Cross-Entropy:**\n",
        "    *   **Loss Function:** For a single example in binary classification, it's defined as: $L(y, \\hat{y}) = -(y \\log(\\hat{y}) + (1-y) \\log(1-\\hat{y}))$. For multi-class classification, it's a summation over all classes. Cross-entropy penalizes confident wrong predictions heavily.\n",
        "    *   **Cost Function:** The average of the cross-entropy losses over all training examples. Cross-entropy is widely used in classification problems.\n",
        "\n",
        "In both examples, the loss function calculates the error for a single data point, and the cost function aggregates these errors over the entire dataset to provide a single measure of the model's performance that is used to guide the learning process."
      ]
    },
    {
      "cell_type": "markdown",
      "source": [
        "**Question 5: What is the role of optimizers in neural networks? Compare Gradient\n",
        "Descent, Adam, and RMSprop.**"
      ],
      "metadata": {
        "id": "AnFTYJFT2GQX"
      }
    },
    {
      "cell_type": "markdown",
      "metadata": {
        "id": "961a7869"
      },
      "source": [
        "**Role of Optimizers in Neural Networks:**\n",
        "\n",
        "Optimizers play a crucial role in training neural networks. Their primary purpose is to minimize the cost function (or maximize an objective function) by iteratively adjusting the network's parameters (weights and biases). Essentially, optimizers guide the learning process by determining how the network's parameters are updated based on the calculated gradients of the cost function with respect to those parameters.\n",
        "\n",
        "During training, the neural network makes predictions, and the loss function calculates the error for each prediction. The cost function aggregates these errors across the dataset. The optimizer then uses the gradients of the cost function to figure out the direction and magnitude of the parameter updates that will lead to a lower cost. This iterative process of calculating errors, computing gradients, and updating parameters is repeated until the network converges to a state where the cost function is minimized.\n",
        "\n",
        "Without an optimizer, the neural network would not be able to learn from its mistakes and improve its performance. Optimizers are the engine that drives the learning process in deep learning."
      ]
    },
    {
      "cell_type": "markdown",
      "metadata": {
        "id": "f497b6a5"
      },
      "source": [
        "**Comparison of Gradient Descent, Adam, and RMSprop:**\n",
        "\n",
        "Here's a comparison of three common optimization algorithms:\n",
        "\n",
        "*   **Gradient Descent (Batch Gradient Descent):**\n",
        "    *   **How it works:** Calculates the gradient of the cost function with respect to the parameters using the **entire training dataset** in each iteration. It then updates the parameters in the opposite direction of the gradient, scaled by the learning rate.\n",
        "    *   **Pros:** Guaranteed to converge to the global minimum for convex cost functions and a local minimum for non-convex functions.\n",
        "    *   **Cons:** Can be very slow and computationally expensive for large datasets because it requires processing the entire dataset for each parameter update. Can get stuck in local minima.\n",
        "    *   **Use Cases:** Suitable for smaller datasets or when the cost function is convex. Not commonly used for training large deep neural networks.\n",
        "\n",
        "*   **RMSprop (Root Mean Square Propagation):**\n",
        "    *   **How it works:** Adapts the learning rate for each parameter. It divides the learning rate by a running average of the squared gradients for that parameter. This helps to accelerate convergence in the direction of shallow gradients and slow down convergence in the direction of steep gradients.\n",
        "    *   **Pros:** Addresses the vanishing/exploding gradient problem to some extent. Generally converges faster than standard Gradient Descent.\n",
        "    *   **Cons:** The learning rate still needs to be tuned.\n",
        "    *   **Use Cases:** Effective in many deep learning applications, especially in recurrent neural networks.\n",
        "\n",
        "*   **Adam (Adaptive Moment Estimation):**\n",
        "    *   **How it works:** Combines the ideas of RMSprop and Momentum. It calculates an exponentially decaying average of past squared gradients (like RMSprop) and an exponentially decaying average of past gradients (like Momentum). It then uses these moving averages to adapt the learning rate for each parameter.\n",
        "    *   **Pros:** Generally considered one of the most effective optimizers. Adapts the learning rate for each parameter individually. Often converges quickly and performs well in practice. Less sensitive to the learning rate hyperparameter compared to other optimizers.\n",
        "    *   **Cons:** Can sometimes converge to a suboptimal solution compared to SGD with momentum in some specific cases, although this is not common.\n",
        "    *   **Use Cases:** A widely used and often recommended default optimizer for various deep learning tasks.\n",
        "\n",
        "**Summary Table:**\n",
        "\n",
        "| Feature          | Gradient Descent | RMSprop          | Adam             |\n",
        "|------------------|-------------------|------------------|------------------|\n",
        "| Learning Rate    | Fixed             | Adaptive (per-parameter) | Adaptive (per-parameter) |\n",
        "| Momentum         | No                | No               | Yes              |\n",
        "| Adaptive Gradients | No                | Yes              | Yes              |\n",
        "| Computation      | Simple            | Moderate         | Moderate         |\n",
        "| Convergence      | Slow (for large data) | Faster than GD   | Generally Fastest |"
      ]
    },
    {
      "cell_type": "markdown",
      "source": [
        "**Question 6: Write a Python program to implement a single-layer perceptron from\n",
        "scratch using NumPy to solve the logical AND gate.**"
      ],
      "metadata": {
        "id": "zYiBqV0C2fhk"
      }
    },
    {
      "cell_type": "code",
      "metadata": {
        "colab": {
          "base_uri": "https://localhost:8080/"
        },
        "id": "33f54fef",
        "outputId": "64b9fe7f-176c-4be9-a78a-02710065d1a8"
      },
      "source": [
        "import numpy as np\n",
        "\n",
        "class Perceptron:\n",
        "    def __init__(self, input_size, learning_rate=0.01, epochs=100):\n",
        "        self.weights = np.zeros(input_size + 1)  # +1 for the bias\n",
        "        self.learning_rate = learning_rate\n",
        "        self.epochs = epochs\n",
        "\n",
        "    def activation_function(self, x):\n",
        "        return 1 if x >= 0 else 0\n",
        "\n",
        "    def predict(self, inputs):\n",
        "        summation = np.dot(inputs, self.weights[1:]) + self.weights[0]  # inputs * weights + bias\n",
        "        return self.activation_function(summation)\n",
        "\n",
        "    def train(self, training_inputs, labels):\n",
        "        for _ in range(self.epochs):\n",
        "            for inputs, label in zip(training_inputs, labels):\n",
        "                prediction = self.predict(inputs)\n",
        "                self.weights[1:] += self.learning_rate * (label - prediction) * inputs\n",
        "                self.weights[0] += self.learning_rate * (label - prediction) * 1 # update bias\n",
        "\n",
        "# AND gate training data\n",
        "training_inputs = np.array([[0, 0], [0, 1], [1, 0], [1, 1]])\n",
        "labels = np.array([0, 0, 0, 1])\n",
        "\n",
        "# Create and train the perceptron\n",
        "perceptron = Perceptron(input_size=2)\n",
        "perceptron.train(training_inputs, labels)\n",
        "\n",
        "# Test the trained perceptron\n",
        "print(\"Testing the Perceptron for AND gate:\")\n",
        "print(f\"0 AND 0: {perceptron.predict(np.array([0, 0]))}\")\n",
        "print(f\"0 AND 1: {perceptron.predict(np.array([0, 1]))}\")\n",
        "print(f\"1 AND 0: {perceptron.predict(np.array([1, 0]))}\")\n",
        "print(f\"1 AND 1: {perceptron.predict(np.array([1, 1]))}\")"
      ],
      "execution_count": 1,
      "outputs": [
        {
          "output_type": "stream",
          "name": "stdout",
          "text": [
            "Testing the Perceptron for AND gate:\n",
            "0 AND 0: 0\n",
            "0 AND 1: 0\n",
            "1 AND 0: 0\n",
            "1 AND 1: 1\n"
          ]
        }
      ]
    },
    {
      "cell_type": "markdown",
      "source": [
        "**Question 7: Implement and visualize Sigmoid, ReLU, and Tanh activation functions\n",
        "using Matplotlib.**"
      ],
      "metadata": {
        "id": "B44K7ee840FH"
      }
    },
    {
      "cell_type": "code",
      "metadata": {
        "colab": {
          "base_uri": "https://localhost:8080/",
          "height": 718
        },
        "id": "f613fb65",
        "outputId": "ef7d09f1-bb30-48d6-a71f-c475956e7a0a"
      },
      "source": [
        "import numpy as np\n",
        "import matplotlib.pyplot as plt\n",
        "\n",
        "def sigmoid(x):\n",
        "  return 1 / (1 + np.exp(-x))\n",
        "\n",
        "def relu(x):\n",
        "  return np.maximum(0, x)\n",
        "\n",
        "def tanh(x):\n",
        "  return np.tanh(x)\n",
        "\n",
        "# Generate a range of input values\n",
        "x = np.linspace(-10, 10, 100)\n",
        "\n",
        "# Calculate the output for each activation function\n",
        "y_sigmoid = sigmoid(x)\n",
        "y_relu = relu(x)\n",
        "y_tanh = tanh(x)\n",
        "\n",
        "# Plot the activation functions\n",
        "plt.figure(figsize=(12, 8))\n",
        "\n",
        "plt.plot(x, y_sigmoid, label='Sigmoid', color='blue')\n",
        "plt.plot(x, y_relu, label='ReLU', color='red')\n",
        "plt.plot(x, y_tanh, label='Tanh', color='green')\n",
        "\n",
        "plt.title('Activation Functions')\n",
        "plt.xlabel('Input')\n",
        "plt.ylabel('Output')\n",
        "plt.legend()\n",
        "plt.grid(True)\n",
        "plt.show()"
      ],
      "execution_count": 2,
      "outputs": [
        {
          "output_type": "display_data",
          "data": {
            "text/plain": [
              "<Figure size 1200x800 with 1 Axes>"
            ],
            "image/png": "[encoded data removed]"
          },
          "metadata": {}
        }
      ]
    },
    {
      "cell_type": "markdown",
      "source": [
        "**Question 8: Use Keras to build and train a simple multilayer neural network on the\n",
        "MNIST digits dataset. Print the training accuracy.**"
      ],
      "metadata": {
        "id": "g8a-9UGx46UI"
      }
    },
    {
      "cell_type": "markdown",
      "metadata": {
        "id": "c670b485"
      },
      "source": [
        "# Task\n",
        "Use Keras to build and train a simple multilayer neural network on the MNIST digits dataset. Print the training accuracy."
      ]
    },
    {
      "cell_type": "markdown",
      "metadata": {
        "id": "68b2ac9a"
      },
      "source": [
        "## Load the mnist dataset\n",
        "\n",
        "### Subtask:\n",
        "Load the training and testing data from the MNIST dataset using Keras.\n"
      ]
    },
    {
      "cell_type": "markdown",
      "metadata": {
        "id": "e6149d67"
      },
      "source": [
        "**Reasoning**:\n",
        "Import the necessary dataset and load the training and testing data for MNIST.\n",
        "\n"
      ]
    },
    {
      "cell_type": "code",
      "metadata": {
        "colab": {
          "base_uri": "https://localhost:8080/"
        },
        "id": "6bf4f289",
        "outputId": "b771cb6e-899d-4225-a073-8cce28cce219"
      },
      "source": [
        "from tensorflow.keras.datasets import mnist\n",
        "\n",
        "(x_train, y_train), (x_test, y_test) = mnist.load_data()"
      ],
      "execution_count": 3,
      "outputs": [
        {
          "output_type": "stream",
          "name": "stdout",
          "text": [
            "Downloading data from https://storage.googleapis.com/tensorflow/tf-keras-datasets/mnist.npz\n",
            "\u001b[1m11490434/11490434\u001b[0m \u001b[32m━━━━━━━━━━━━━━━━━━━━\u001b[0m\u001b[37m\u001b[0m \u001b[1m0s\u001b[0m 0us/step\n"
          ]
        }
      ]
    },
    {
      "cell_type": "markdown",
      "metadata": {
        "id": "c18ccd65"
      },
      "source": [
        "## Preprocess the data\n",
        "\n",
        "### Subtask:\n",
        "Normalize the pixel values and one-hot encode the labels.\n"
      ]
    },
    {
      "cell_type": "markdown",
      "metadata": {
        "id": "fd85ffcb"
      },
      "source": [
        "**Reasoning**:\n",
        "Normalize the pixel values, reshape the images, and one-hot encode the labels as instructed.\n",
        "\n"
      ]
    },
    {
      "cell_type": "code",
      "metadata": {
        "colab": {
          "base_uri": "https://localhost:8080/"
        },
        "id": "7a0b932f",
        "outputId": "88275611-09a2-47d2-bdc6-ac8ab3400956"
      },
      "source": [
        "from tensorflow.keras.utils import to_categorical\n",
        "\n",
        "# Normalize the pixel values\n",
        "x_train = x_train.astype('float32') / 255.0\n",
        "x_test = x_test.astype('float32') / 255.0\n",
        "\n",
        "# Reshape the images to flatten them\n",
        "x_train = x_train.reshape((x_train.shape[0], 28 * 28))\n",
        "x_test = x_test.reshape((x_test.shape[0], 28 * 28))\n",
        "\n",
        "# One-hot encode the labels\n",
        "y_train = to_categorical(y_train)\n",
        "y_test = to_categorical(y_test)\n",
        "\n",
        "print(\"Normalized and reshaped training data shape:\", x_train.shape)\n",
        "print(\"Normalized and reshaped testing data shape:\", x_test.shape)\n",
        "print(\"One-hot encoded training labels shape:\", y_train.shape)\n",
        "print(\"One-hot encoded testing labels shape:\", y_test.shape)"
      ],
      "execution_count": 4,
      "outputs": [
        {
          "output_type": "stream",
          "name": "stdout",
          "text": [
            "Normalized and reshaped training data shape: (60000, 784)\n",
            "Normalized and reshaped testing data shape: (10000, 784)\n",
            "One-hot encoded training labels shape: (60000, 10)\n",
            "One-hot encoded testing labels shape: (10000, 10)\n"
          ]
        }
      ]
    },
    {
      "cell_type": "markdown",
      "metadata": {
        "id": "d72385e0"
      },
      "source": [
        "## Build the neural network model\n",
        "\n",
        "### Subtask:\n",
        "Create a simple multilayer neural network using Keras with dense layers and appropriate activation functions.\n"
      ]
    },
    {
      "cell_type": "markdown",
      "metadata": {
        "id": "3dce6f84"
      },
      "source": [
        "**Reasoning**:\n",
        "Create a simple multilayer neural network using Keras with dense layers and appropriate activation functions as per the instructions.\n",
        "\n"
      ]
    },
    {
      "cell_type": "code",
      "metadata": {
        "colab": {
          "base_uri": "https://localhost:8080/",
          "height": 293
        },
        "id": "f77ffd2b",
        "outputId": "e7e81998-06b9-448b-d6b5-c9f12bfe369a"
      },
      "source": [
        "from tensorflow.keras.models import Sequential\n",
        "from tensorflow.keras.layers import Dense\n",
        "\n",
        "# Create a Sequential model\n",
        "model = Sequential()\n",
        "\n",
        "# Add the input layer and a hidden layer\n",
        "model.add(Dense(128, activation='relu', input_shape=(784,)))\n",
        "\n",
        "# Add another hidden layer\n",
        "model.add(Dense(64, activation='relu'))\n",
        "\n",
        "# Add the output layer\n",
        "model.add(Dense(10, activation='softmax'))\n",
        "\n",
        "# Print the model summary to verify the architecture\n",
        "model.summary()"
      ],
      "execution_count": 5,
      "outputs": [
        {
          "output_type": "stream",
          "name": "stderr",
          "text": [
            "/usr/local/lib/python3.12/dist-packages/keras/src/layers/core/dense.py:93: UserWarning: Do not pass an `input_shape`/`input_dim` argument to a layer. When using Sequential models, prefer using an `Input(shape)` object as the first layer in the model instead.\n",
            "  super().__init__(activity_regularizer=activity_regularizer, **kwargs)\n"
          ]
        },
        {
          "output_type": "display_data",
          "data": {
            "text/plain": [
              "\u001b[1mModel: \"sequential\"\u001b[0m\n"
            ],
            "text/html": [
              "<pre style=\"white-space:pre;overflow-x:auto;line-height:normal;font-family:Menlo,'DejaVu Sans Mono',consolas,'Courier New',monospace\"><span style=\"font-weight: bold\">Model: \"sequential\"</span>\n",
              "</pre>\n"
            ]
          },
          "metadata": {}
        },
        {
          "output_type": "display_data",
          "data": {
            "text/plain": [
              "┏━━━━━━━━━━━━━━━━━━━━━━━━━━━━━━━━━┳━━━━━━━━━━━━━━━━━━━━━━━━┳━━━━━━━━━━━━━━━┓\n",
              "┃\u001b[1m \u001b[0m\u001b[1mLayer (type)                   \u001b[0m\u001b[1m \u001b[0m┃\u001b[1m \u001b[0m\u001b[1mOutput Shape          \u001b[0m\u001b[1m \u001b[0m┃\u001b[1m \u001b[0m\u001b[1m      Param #\u001b[0m\u001b[1m \u001b[0m┃\n",
              "┡━━━━━━━━━━━━━━━━━━━━━━━━━━━━━━━━━╇━━━━━━━━━━━━━━━━━━━━━━━━╇━━━━━━━━━━━━━━━┩\n",
              "│ dense (\u001b[38;5;33mDense\u001b[0m)                   │ (\u001b[38;5;45mNone\u001b[0m, \u001b[38;5;34m128\u001b[0m)            │       \u001b[38;5;34m100,480\u001b[0m │\n",
              "├─────────────────────────────────┼────────────────────────┼───────────────┤\n",
              "│ dense_1 (\u001b[38;5;33mDense\u001b[0m)                 │ (\u001b[38;5;45mNone\u001b[0m, \u001b[38;5;34m64\u001b[0m)             │         \u001b[38;5;34m8,256\u001b[0m │\n",
              "├─────────────────────────────────┼────────────────────────┼───────────────┤\n",
              "│ dense_2 (\u001b[38;5;33mDense\u001b[0m)                 │ (\u001b[38;5;45mNone\u001b[0m, \u001b[38;5;34m10\u001b[0m)             │           \u001b[38;5;34m650\u001b[0m │\n",
              "└─────────────────────────────────┴────────────────────────┴───────────────┘\n"
            ],
            "text/html": [
              "<pre style=\"white-space:pre;overflow-x:auto;line-height:normal;font-family:Menlo,'DejaVu Sans Mono',consolas,'Courier New',monospace\">┏━━━━━━━━━━━━━━━━━━━━━━━━━━━━━━━━━┳━━━━━━━━━━━━━━━━━━━━━━━━┳━━━━━━━━━━━━━━━┓\n",
              "┃<span style=\"font-weight: bold\"> Layer (type)                    </span>┃<span style=\"font-weight: bold\"> Output Shape           </span>┃<span style=\"font-weight: bold\">       Param # </span>┃\n",
              "┡━━━━━━━━━━━━━━━━━━━━━━━━━━━━━━━━━╇━━━━━━━━━━━━━━━━━━━━━━━━╇━━━━━━━━━━━━━━━┩\n",
              "│ dense (<span style=\"color: #0087ff; text-decoration-color: #0087ff\">Dense</span>)                   │ (<span style=\"color: #00d7ff; text-decoration-color: #00d7ff\">None</span>, <span style=\"color: #00af00; text-decoration-color: #00af00\">128</span>)            │       <span style=\"color: #00af00; text-decoration-color: #00af00\">100,480</span> │\n",
              "├─────────────────────────────────┼────────────────────────┼───────────────┤\n",
              "│ dense_1 (<span style=\"color: #0087ff; text-decoration-color: #0087ff\">Dense</span>)                 │ (<span style=\"color: #00d7ff; text-decoration-color: #00d7ff\">None</span>, <span style=\"color: #00af00; text-decoration-color: #00af00\">64</span>)             │         <span style=\"color: #00af00; text-decoration-color: #00af00\">8,256</span> │\n",
              "├─────────────────────────────────┼────────────────────────┼───────────────┤\n",
              "│ dense_2 (<span style=\"color: #0087ff; text-decoration-color: #0087ff\">Dense</span>)                 │ (<span style=\"color: #00d7ff; text-decoration-color: #00d7ff\">None</span>, <span style=\"color: #00af00; text-decoration-color: #00af00\">10</span>)             │           <span style=\"color: #00af00; text-decoration-color: #00af00\">650</span> │\n",
              "└─────────────────────────────────┴────────────────────────┴───────────────┘\n",
              "</pre>\n"
            ]
          },
          "metadata": {}
        },
        {
          "output_type": "display_data",
          "data": {
            "text/plain": [
              "\u001b[1m Total params: \u001b[0m\u001b[38;5;34m109,386\u001b[0m (427.29 KB)\n"
            ],
            "text/html": [
              "<pre style=\"white-space:pre;overflow-x:auto;line-height:normal;font-family:Menlo,'DejaVu Sans Mono',consolas,'Courier New',monospace\"><span style=\"font-weight: bold\"> Total params: </span><span style=\"color: #00af00; text-decoration-color: #00af00\">109,386</span> (427.29 KB)\n",
              "</pre>\n"
            ]
          },
          "metadata": {}
        },
        {
          "output_type": "display_data",
          "data": {
            "text/plain": [
              "\u001b[1m Trainable params: \u001b[0m\u001b[38;5;34m109,386\u001b[0m (427.29 KB)\n"
            ],
            "text/html": [
              "<pre style=\"white-space:pre;overflow-x:auto;line-height:normal;font-family:Menlo,'DejaVu Sans Mono',consolas,'Courier New',monospace\"><span style=\"font-weight: bold\"> Trainable params: </span><span style=\"color: #00af00; text-decoration-color: #00af00\">109,386</span> (427.29 KB)\n",
              "</pre>\n"
            ]
          },
          "metadata": {}
        },
        {
          "output_type": "display_data",
          "data": {
            "text/plain": [
              "\u001b[1m Non-trainable params: \u001b[0m\u001b[38;5;34m0\u001b[0m (0.00 B)\n"
            ],
            "text/html": [
              "<pre style=\"white-space:pre;overflow-x:auto;line-height:normal;font-family:Menlo,'DejaVu Sans Mono',consolas,'Courier New',monospace\"><span style=\"font-weight: bold\"> Non-trainable params: </span><span style=\"color: #00af00; text-decoration-color: #00af00\">0</span> (0.00 B)\n",
              "</pre>\n"
            ]
          },
          "metadata": {}
        }
      ]
    },
    {
      "cell_type": "markdown",
      "metadata": {
        "id": "9804a0c5"
      },
      "source": [
        "## Compile the model\n",
        "\n",
        "### Subtask:\n",
        "Configure the model for training by specifying the optimizer, loss function, and metrics.\n"
      ]
    },
    {
      "cell_type": "markdown",
      "metadata": {
        "id": "78799ebb"
      },
      "source": [
        "**Reasoning**:\n",
        "Configure the model for training by specifying the optimizer, loss function, and metrics.\n",
        "\n"
      ]
    },
    {
      "cell_type": "code",
      "metadata": {
        "colab": {
          "base_uri": "https://localhost:8080/"
        },
        "id": "f98b5839",
        "outputId": "05f5d60a-b26f-446e-ec3e-1337147b1dc9"
      },
      "source": [
        "from tensorflow.keras.optimizers import Adam\n",
        "\n",
        "# Compile the model\n",
        "model.compile(optimizer=Adam(),\n",
        "              loss='categorical_crossentropy',\n",
        "              metrics=['accuracy'])\n",
        "\n",
        "print(\"Model compiled successfully.\")"
      ],
      "execution_count": 6,
      "outputs": [
        {
          "output_type": "stream",
          "name": "stdout",
          "text": [
            "Model compiled successfully.\n"
          ]
        }
      ]
    },
    {
      "cell_type": "markdown",
      "metadata": {
        "id": "d3ab8c4d"
      },
      "source": [
        "## Train the model\n",
        "\n",
        "### Subtask:\n",
        "Train the model using the training data.\n"
      ]
    },
    {
      "cell_type": "markdown",
      "metadata": {
        "id": "1feb6a45"
      },
      "source": [
        "**Reasoning**:\n",
        "Train the compiled Keras model using the training and validation data for a specified number of epochs and batch size.\n",
        "\n"
      ]
    },
    {
      "cell_type": "code",
      "metadata": {
        "colab": {
          "base_uri": "https://localhost:8080/"
        },
        "id": "481b6b66",
        "outputId": "6c0bd1cb-7e94-4e7f-e726-1b108a804923"
      },
      "source": [
        "# Train the model\n",
        "history = model.fit(x_train, y_train,\n",
        "                    epochs=10,\n",
        "                    batch_size=128,\n",
        "                    validation_data=(x_test, y_test))\n",
        "\n",
        "print(\"Model training complete.\")"
      ],
      "execution_count": 7,
      "outputs": [
        {
          "output_type": "stream",
          "name": "stdout",
          "text": [
            "Epoch 1/10\n",
            "\u001b[1m469/469\u001b[0m \u001b[32m━━━━━━━━━━━━━━━━━━━━\u001b[0m\u001b[37m\u001b[0m \u001b[1m4s\u001b[0m 5ms/step - accuracy: 0.8304 - loss: 0.5959 - val_accuracy: 0.9500 - val_loss: 0.1667\n",
            "Epoch 2/10\n",
            "\u001b[1m469/469\u001b[0m \u001b[32m━━━━━━━━━━━━━━━━━━━━\u001b[0m\u001b[37m\u001b[0m \u001b[1m3s\u001b[0m 7ms/step - accuracy: 0.9585 - loss: 0.1394 - val_accuracy: 0.9656 - val_loss: 0.1159\n",
            "Epoch 3/10\n",
            "\u001b[1m469/469\u001b[0m \u001b[32m━━━━━━━━━━━━━━━━━━━━\u001b[0m\u001b[37m\u001b[0m \u001b[1m2s\u001b[0m 4ms/step - accuracy: 0.9714 - loss: 0.0955 - val_accuracy: 0.9721 - val_loss: 0.0965\n",
            "Epoch 4/10\n",
            "\u001b[1m469/469\u001b[0m \u001b[32m━━━━━━━━━━━━━━━━━━━━\u001b[0m\u001b[37m\u001b[0m \u001b[1m2s\u001b[0m 5ms/step - accuracy: 0.9774 - loss: 0.0741 - val_accuracy: 0.9736 - val_loss: 0.0857\n",
            "Epoch 5/10\n",
            "\u001b[1m469/469\u001b[0m \u001b[32m━━━━━━━━━━━━━━━━━━━━\u001b[0m\u001b[37m\u001b[0m \u001b[1m2s\u001b[0m 5ms/step - accuracy: 0.9841 - loss: 0.0559 - val_accuracy: 0.9757 - val_loss: 0.0776\n",
            "Epoch 6/10\n",
            "\u001b[1m469/469\u001b[0m \u001b[32m━━━━━━━━━━━━━━━━━━━━\u001b[0m\u001b[37m\u001b[0m \u001b[1m2s\u001b[0m 5ms/step - accuracy: 0.9864 - loss: 0.0449 - val_accuracy: 0.9758 - val_loss: 0.0815\n",
            "Epoch 7/10\n",
            "\u001b[1m469/469\u001b[0m \u001b[32m━━━━━━━━━━━━━━━━━━━━\u001b[0m\u001b[37m\u001b[0m \u001b[1m3s\u001b[0m 7ms/step - accuracy: 0.9894 - loss: 0.0361 - val_accuracy: 0.9768 - val_loss: 0.0748\n",
            "Epoch 8/10\n",
            "\u001b[1m469/469\u001b[0m \u001b[32m━━━━━━━━━━━━━━━━━━━━\u001b[0m\u001b[37m\u001b[0m \u001b[1m2s\u001b[0m 5ms/step - accuracy: 0.9916 - loss: 0.0275 - val_accuracy: 0.9764 - val_loss: 0.0815\n",
            "Epoch 9/10\n",
            "\u001b[1m469/469\u001b[0m \u001b[32m━━━━━━━━━━━━━━━━━━━━\u001b[0m\u001b[37m\u001b[0m \u001b[1m2s\u001b[0m 5ms/step - accuracy: 0.9927 - loss: 0.0247 - val_accuracy: 0.9740 - val_loss: 0.0873\n",
            "Epoch 10/10\n",
            "\u001b[1m469/469\u001b[0m \u001b[32m━━━━━━━━━━━━━━━━━━━━\u001b[0m\u001b[37m\u001b[0m \u001b[1m2s\u001b[0m 5ms/step - accuracy: 0.9944 - loss: 0.0195 - val_accuracy: 0.9739 - val_loss: 0.0965\n",
            "Model training complete.\n"
          ]
        }
      ]
    },
    {
      "cell_type": "markdown",
      "metadata": {
        "id": "50057ff7"
      },
      "source": [
        "## Evaluate the model\n",
        "\n",
        "### Subtask:\n",
        "Evaluate the trained model on the training data to get the training accuracy.\n"
      ]
    },
    {
      "cell_type": "markdown",
      "metadata": {
        "id": "ff651845"
      },
      "source": [
        "**Reasoning**:\n",
        "Evaluate the trained model on the training data to get the training accuracy.\n",
        "\n"
      ]
    },
    {
      "cell_type": "code",
      "metadata": {
        "colab": {
          "base_uri": "https://localhost:8080/"
        },
        "id": "beb1593d",
        "outputId": "d4cc1aa7-706b-44a5-8797-b950e9d7e65d"
      },
      "source": [
        "# Evaluate the model on the training data\n",
        "train_loss, train_accuracy = model.evaluate(x_train, y_train, verbose=0)\n",
        "\n",
        "# Print the training accuracy\n",
        "print(f\"Training Accuracy: {train_accuracy:.4f}\")"
      ],
      "execution_count": 8,
      "outputs": [
        {
          "output_type": "stream",
          "name": "stdout",
          "text": [
            "Training Accuracy: 0.9931\n"
          ]
        }
      ]
    },
    {
      "cell_type": "markdown",
      "metadata": {
        "id": "0db895c7"
      },
      "source": [
        "## Print the training accuracy\n",
        "\n",
        "### Subtask:\n",
        "Print the calculated training accuracy.\n"
      ]
    },
    {
      "cell_type": "markdown",
      "metadata": {
        "id": "17e3f985"
      },
      "source": [
        "**Reasoning**:\n",
        "Print the training accuracy with a descriptive label, formatted to four decimal places.\n",
        "\n"
      ]
    },
    {
      "cell_type": "code",
      "metadata": {
        "colab": {
          "base_uri": "https://localhost:8080/"
        },
        "id": "a6cc09cf",
        "outputId": "49310c66-cbe6-476f-9137-4de6b0c00d23"
      },
      "source": [
        "print(f\"Training Accuracy: {train_accuracy:.4f}\")"
      ],
      "execution_count": 9,
      "outputs": [
        {
          "output_type": "stream",
          "name": "stdout",
          "text": [
            "Training Accuracy: 0.9931\n"
          ]
        }
      ]
    },
    {
      "cell_type": "markdown",
      "metadata": {
        "id": "8f615634"
      },
      "source": [
        "## Summary:\n",
        "\n",
        "### Data Analysis Key Findings\n",
        "\n",
        "*   The training accuracy of the simple multilayer neural network on the MNIST training dataset is 0.9931.\n",
        "\n",
        "### Insights or Next Steps\n",
        "\n",
        "*   Evaluate the model on the testing data to assess its generalization performance.\n",
        "*   Experiment with different model architectures, optimizers, or hyperparameters to potentially improve performance.\n"
      ]
    },
    {
      "cell_type": "markdown",
      "source": [
        "**Question 9: Visualize the loss and accuracy curves for a neural network model trained\n",
        "on the Fashion MNIST dataset. Interpret the training behavior.**"
      ],
      "metadata": {
        "id": "_pEtynWf55VT"
      }
    },
    {
      "cell_type": "code",
      "source": [
        "from tensorflow.keras.datasets import fashion_mnist\n",
        "\n",
        "# Load the Fashion MNIST dataset\n",
        "(x_train, y_train), (x_test, y_test) = fashion_mnist.load_data()\n",
        "\n",
        "print(\"Fashion MNIST dataset loaded successfully.\")\n",
        "print(\"Training data shape:\", x_train.shape)\n",
        "print(\"Training labels shape:\", y_train.shape)\n",
        "print(\"Testing data shape:\", x_test.shape)\n",
        "print(\"Testing labels shape:\", y_test.shape)"
      ],
      "metadata": {
        "colab": {
          "base_uri": "https://localhost:8080/"
        },
        "id": "SBybgvxo-Xdc",
        "outputId": "4648da8d-7e5f-4eea-f1fe-ebfa34ecd7b2"
      },
      "execution_count": 10,
      "outputs": [
        {
          "output_type": "stream",
          "name": "stdout",
          "text": [
            "Downloading data from https://storage.googleapis.com/tensorflow/tf-keras-datasets/train-labels-idx1-ubyte.gz\n",
            "\u001b[1m29515/29515\u001b[0m \u001b[32m━━━━━━━━━━━━━━━━━━━━\u001b[0m\u001b[37m\u001b[0m \u001b[1m0s\u001b[0m 0us/step\n",
            "Downloading data from https://storage.googleapis.com/tensorflow/tf-keras-datasets/train-images-idx3-ubyte.gz\n",
            "\u001b[1m26421880/26421880\u001b[0m \u001b[32m━━━━━━━━━━━━━━━━━━━━\u001b[0m\u001b[37m\u001b[0m \u001b[1m0s\u001b[0m 0us/step\n",
            "Downloading data from https://storage.googleapis.com/tensorflow/tf-keras-datasets/t10k-labels-idx1-ubyte.gz\n",
            "\u001b[1m5148/5148\u001b[0m \u001b[32m━━━━━━━━━━━━━━━━━━━━\u001b[0m\u001b[37m\u001b[0m \u001b[1m0s\u001b[0m 0us/step\n",
            "Downloading data from https://storage.googleapis.com/tensorflow/tf-keras-datasets/t10k-images-idx3-ubyte.gz\n",
            "\u001b[1m4422102/4422102\u001b[0m \u001b[32m━━━━━━━━━━━━━━━━━━━━\u001b[0m\u001b[37m\u001b[0m \u001b[1m0s\u001b[0m 0us/step\n",
            "Fashion MNIST dataset loaded successfully.\n",
            "Training data shape: (60000, 28, 28)\n",
            "Training labels shape: (60000,)\n",
            "Testing data shape: (10000, 28, 28)\n",
            "Testing labels shape: (10000,)\n"
          ]
        }
      ]
    },
    {
      "cell_type": "markdown",
      "metadata": {
        "id": "d098147d"
      },
      "source": [
        "## Interpret training behavior\n",
        "\n",
        "### Subtask:\n",
        "Analyze the plotted curves to understand how the model trained, looking for signs of overfitting or underfitting."
      ]
    },
    {
      "cell_type": "markdown",
      "metadata": {
        "id": "48906d50"
      },
      "source": [
        "**Interpretation of Training Behavior:**\n",
        "\n",
        "Based on the plots:\n",
        "\n",
        "*   **Training Loss and Accuracy:** Observe how the training loss decreases and training accuracy increases over epochs. This indicates that the model is learning and improving on the training data.\n",
        "*   **Validation Loss and Accuracy:** Pay close attention to the validation loss and accuracy.\n",
        "    *   If the validation loss continues to decrease and validation accuracy continues to increase along with the training metrics, it suggests that the model is generalizing well to unseen data.\n",
        "    *   If the validation loss starts to increase or the validation accuracy plateaus or decreases while the training metrics continue to improve, it's a sign of **overfitting**. The model is learning the training data too well, including the noise, and is not performing as well on new data.\n",
        "    *   If both training and validation metrics are poor, it could indicate **underfitting**. The model is not complex enough to capture the patterns in the data.\n",
        "\n",
        "**Based on the generated plots:**\n",
        "\n",
        "*   The training loss decreases steadily, and the training accuracy increases, indicating that the model is learning.\n",
        "*   The validation loss initially decreases and then appears to plateau or slightly increase towards the later epochs, while the validation accuracy also increases but at a slower rate than the training accuracy. This suggests that the model might be starting to **overfit** the training data. The gap between training and validation accuracy is also widening, which is another indicator of potential overfitting.\n",
        "\n",
        "**Possible next steps to address potential overfitting:**\n",
        "\n",
        "*   **Regularization:** Add regularization techniques like L1 or L2 regularization to the model layers.\n",
        "*   **Dropout:** Introduce dropout layers to randomly drop out a fraction of neurons during training.\n",
        "*   **Early Stopping:** Implement early stopping to stop training when the validation performance starts to degrade.\n",
        "*   **Increase Dataset Size:** If possible, using a larger and more diverse dataset can help reduce overfitting.\n",
        "*   **Simplify Model:** If the model is too complex for the dataset, consider reducing the number of layers or neurons."
      ]
    },
    {
      "cell_type": "markdown",
      "metadata": {
        "id": "1100c3d1"
      },
      "source": [
        "## Visualize loss and accuracy\n",
        "\n",
        "### Subtask:\n",
        "Plot the training and validation loss and accuracy curves from the training history using Matplotlib."
      ]
    },
    {
      "cell_type": "code",
      "metadata": {
        "colab": {
          "base_uri": "https://localhost:8080/",
          "height": 564
        },
        "id": "dc948b46",
        "outputId": "6a5f4ae6-2f00-49df-dd1b-b82fdd16b235"
      },
      "source": [
        "import matplotlib.pyplot as plt\n",
        "\n",
        "# Get the loss and accuracy from the history object\n",
        "loss = history.history['loss']\n",
        "val_loss = history.history['val_loss']\n",
        "accuracy = history.history['accuracy']\n",
        "val_accuracy = history.history['val_accuracy']\n",
        "epochs = range(1, len(loss) + 1)\n",
        "\n",
        "# Plot training and validation loss\n",
        "plt.figure(figsize=(12, 6))\n",
        "plt.subplot(1, 2, 1)\n",
        "plt.plot(epochs, loss, 'bo', label='Training loss')\n",
        "plt.plot(epochs, val_loss, 'b', label='Validation loss')\n",
        "plt.title('Training and validation loss')\n",
        "plt.xlabel('Epochs')\n",
        "plt.ylabel('Loss')\n",
        "plt.legend()\n",
        "\n",
        "# Plot training and validation accuracy\n",
        "plt.subplot(1, 2, 2)\n",
        "plt.plot(epochs, accuracy, 'bo', label='Training accuracy')\n",
        "plt.plot(epochs, val_accuracy, 'b', label='Validation accuracy')\n",
        "plt.title('Training and validation accuracy')\n",
        "plt.xlabel('Epochs')\n",
        "plt.ylabel('Accuracy')\n",
        "plt.legend()\n",
        "\n",
        "plt.show()"
      ],
      "execution_count": 15,
      "outputs": [
        {
          "output_type": "display_data",
          "data": {
            "text/plain": [
              "<Figure size 1200x600 with 2 Axes>"
            ],
            "image/png": "[encoded data removed]"
          },
          "metadata": {}
        }
      ]
    },
    {
      "cell_type": "markdown",
      "metadata": {
        "id": "679b9db7"
      },
      "source": [
        "## Train the model\n",
        "\n",
        "### Subtask:\n",
        "Train the model using the training data and capture the training history."
      ]
    },
    {
      "cell_type": "code",
      "metadata": {
        "colab": {
          "base_uri": "https://localhost:8080/"
        },
        "id": "9d6e4e42",
        "outputId": "241af427-f7ff-4a20-f18d-0295e1ff1c26"
      },
      "source": [
        "# Train the model\n",
        "history = model.fit(x_train, y_train,\n",
        "                    epochs=10,\n",
        "                    batch_size=128,\n",
        "                    validation_data=(x_test, y_test))\n",
        "\n",
        "print(\"Model training complete.\")"
      ],
      "execution_count": 14,
      "outputs": [
        {
          "output_type": "stream",
          "name": "stdout",
          "text": [
            "Epoch 1/10\n",
            "\u001b[1m469/469\u001b[0m \u001b[32m━━━━━━━━━━━━━━━━━━━━\u001b[0m\u001b[37m\u001b[0m \u001b[1m3s\u001b[0m 5ms/step - accuracy: 0.7374 - loss: 0.7785 - val_accuracy: 0.8432 - val_loss: 0.4387\n",
            "Epoch 2/10\n",
            "\u001b[1m469/469\u001b[0m \u001b[32m━━━━━━━━━━━━━━━━━━━━\u001b[0m\u001b[37m\u001b[0m \u001b[1m3s\u001b[0m 7ms/step - accuracy: 0.8581 - loss: 0.4026 - val_accuracy: 0.8512 - val_loss: 0.4087\n",
            "Epoch 3/10\n",
            "\u001b[1m469/469\u001b[0m \u001b[32m━━━━━━━━━━━━━━━━━━━━\u001b[0m\u001b[37m\u001b[0m \u001b[1m2s\u001b[0m 5ms/step - accuracy: 0.8721 - loss: 0.3559 - val_accuracy: 0.8603 - val_loss: 0.3907\n",
            "Epoch 4/10\n",
            "\u001b[1m469/469\u001b[0m \u001b[32m━━━━━━━━━━━━━━━━━━━━\u001b[0m\u001b[37m\u001b[0m \u001b[1m2s\u001b[0m 5ms/step - accuracy: 0.8809 - loss: 0.3300 - val_accuracy: 0.8681 - val_loss: 0.3594\n",
            "Epoch 5/10\n",
            "\u001b[1m469/469\u001b[0m \u001b[32m━━━━━━━━━━━━━━━━━━━━\u001b[0m\u001b[37m\u001b[0m \u001b[1m3s\u001b[0m 5ms/step - accuracy: 0.8896 - loss: 0.3022 - val_accuracy: 0.8584 - val_loss: 0.3958\n",
            "Epoch 6/10\n",
            "\u001b[1m469/469\u001b[0m \u001b[32m━━━━━━━━━━━━━━━━━━━━\u001b[0m\u001b[37m\u001b[0m \u001b[1m2s\u001b[0m 5ms/step - accuracy: 0.8911 - loss: 0.2947 - val_accuracy: 0.8747 - val_loss: 0.3536\n",
            "Epoch 7/10\n",
            "\u001b[1m469/469\u001b[0m \u001b[32m━━━━━━━━━━━━━━━━━━━━\u001b[0m\u001b[37m\u001b[0m \u001b[1m3s\u001b[0m 7ms/step - accuracy: 0.8989 - loss: 0.2730 - val_accuracy: 0.8739 - val_loss: 0.3548\n",
            "Epoch 8/10\n",
            "\u001b[1m469/469\u001b[0m \u001b[32m━━━━━━━━━━━━━━━━━━━━\u001b[0m\u001b[37m\u001b[0m \u001b[1m2s\u001b[0m 5ms/step - accuracy: 0.9002 - loss: 0.2671 - val_accuracy: 0.8764 - val_loss: 0.3517\n",
            "Epoch 9/10\n",
            "\u001b[1m469/469\u001b[0m \u001b[32m━━━━━━━━━━━━━━━━━━━━\u001b[0m\u001b[37m\u001b[0m \u001b[1m2s\u001b[0m 5ms/step - accuracy: 0.9032 - loss: 0.2610 - val_accuracy: 0.8781 - val_loss: 0.3430\n",
            "Epoch 10/10\n",
            "\u001b[1m469/469\u001b[0m \u001b[32m━━━━━━━━━━━━━━━━━━━━\u001b[0m\u001b[37m\u001b[0m \u001b[1m2s\u001b[0m 5ms/step - accuracy: 0.9108 - loss: 0.2426 - val_accuracy: 0.8801 - val_loss: 0.3323\n",
            "Model training complete.\n"
          ]
        }
      ]
    },
    {
      "cell_type": "markdown",
      "metadata": {
        "id": "8c8c013d"
      },
      "source": [
        "## Compile the model\n",
        "\n",
        "### Subtask:\n",
        "Configure the model for training by specifying the optimizer, loss function, and metrics."
      ]
    },
    {
      "cell_type": "code",
      "metadata": {
        "colab": {
          "base_uri": "https://localhost:8080/"
        },
        "id": "7ed0784a",
        "outputId": "06e8b6c5-e669-4a86-d5de-27cf005e628b"
      },
      "source": [
        "from tensorflow.keras.optimizers import Adam\n",
        "\n",
        "# Compile the model\n",
        "model.compile(optimizer=Adam(),\n",
        "              loss='categorical_crossentropy',\n",
        "              metrics=['accuracy'])\n",
        "\n",
        "print(\"Model compiled successfully.\")"
      ],
      "execution_count": 13,
      "outputs": [
        {
          "output_type": "stream",
          "name": "stdout",
          "text": [
            "Model compiled successfully.\n"
          ]
        }
      ]
    },
    {
      "cell_type": "markdown",
      "metadata": {
        "id": "d78efcf9"
      },
      "source": [
        "## Build a neural network model\n",
        "\n",
        "### Subtask:\n",
        "Create a simple multilayer neural network using Keras with dense layers and appropriate activation functions."
      ]
    },
    {
      "cell_type": "code",
      "metadata": {
        "colab": {
          "base_uri": "https://localhost:8080/",
          "height": 293
        },
        "id": "524e2567",
        "outputId": "d3bb304a-854a-42e5-9257-e0ce246eba0f"
      },
      "source": [
        "from tensorflow.keras.models import Sequential\n",
        "from tensorflow.keras.layers import Dense\n",
        "\n",
        "# Create a Sequential model\n",
        "model = Sequential()\n",
        "\n",
        "# Add the input layer and a hidden layer\n",
        "model.add(Dense(128, activation='relu', input_shape=(784,)))\n",
        "\n",
        "# Add another hidden layer\n",
        "model.add(Dense(64, activation='relu'))\n",
        "\n",
        "# Add the output layer\n",
        "model.add(Dense(10, activation='softmax'))\n",
        "\n",
        "# Print the model summary to verify the architecture\n",
        "model.summary()"
      ],
      "execution_count": 12,
      "outputs": [
        {
          "output_type": "stream",
          "name": "stderr",
          "text": [
            "/usr/local/lib/python3.12/dist-packages/keras/src/layers/core/dense.py:93: UserWarning: Do not pass an `input_shape`/`input_dim` argument to a layer. When using Sequential models, prefer using an `Input(shape)` object as the first layer in the model instead.\n",
            "  super().__init__(activity_regularizer=activity_regularizer, **kwargs)\n"
          ]
        },
        {
          "output_type": "display_data",
          "data": {
            "text/plain": [
              "\u001b[1mModel: \"sequential_1\"\u001b[0m\n"
            ],
            "text/html": [
              "<pre style=\"white-space:pre;overflow-x:auto;line-height:normal;font-family:Menlo,'DejaVu Sans Mono',consolas,'Courier New',monospace\"><span style=\"font-weight: bold\">Model: \"sequential_1\"</span>\n",
              "</pre>\n"
            ]
          },
          "metadata": {}
        },
        {
          "output_type": "display_data",
          "data": {
            "text/plain": [
              "┏━━━━━━━━━━━━━━━━━━━━━━━━━━━━━━━━━┳━━━━━━━━━━━━━━━━━━━━━━━━┳━━━━━━━━━━━━━━━┓\n",
              "┃\u001b[1m \u001b[0m\u001b[1mLayer (type)                   \u001b[0m\u001b[1m \u001b[0m┃\u001b[1m \u001b[0m\u001b[1mOutput Shape          \u001b[0m\u001b[1m \u001b[0m┃\u001b[1m \u001b[0m\u001b[1m      Param #\u001b[0m\u001b[1m \u001b[0m┃\n",
              "┡━━━━━━━━━━━━━━━━━━━━━━━━━━━━━━━━━╇━━━━━━━━━━━━━━━━━━━━━━━━╇━━━━━━━━━━━━━━━┩\n",
              "│ dense_3 (\u001b[38;5;33mDense\u001b[0m)                 │ (\u001b[38;5;45mNone\u001b[0m, \u001b[38;5;34m128\u001b[0m)            │       \u001b[38;5;34m100,480\u001b[0m │\n",
              "├─────────────────────────────────┼────────────────────────┼───────────────┤\n",
              "│ dense_4 (\u001b[38;5;33mDense\u001b[0m)                 │ (\u001b[38;5;45mNone\u001b[0m, \u001b[38;5;34m64\u001b[0m)             │         \u001b[38;5;34m8,256\u001b[0m │\n",
              "├─────────────────────────────────┼────────────────────────┼───────────────┤\n",
              "│ dense_5 (\u001b[38;5;33mDense\u001b[0m)                 │ (\u001b[38;5;45mNone\u001b[0m, \u001b[38;5;34m10\u001b[0m)             │           \u001b[38;5;34m650\u001b[0m │\n",
              "└─────────────────────────────────┴────────────────────────┴───────────────┘\n"
            ],
            "text/html": [
              "<pre style=\"white-space:pre;overflow-x:auto;line-height:normal;font-family:Menlo,'DejaVu Sans Mono',consolas,'Courier New',monospace\">┏━━━━━━━━━━━━━━━━━━━━━━━━━━━━━━━━━┳━━━━━━━━━━━━━━━━━━━━━━━━┳━━━━━━━━━━━━━━━┓\n",
              "┃<span style=\"font-weight: bold\"> Layer (type)                    </span>┃<span style=\"font-weight: bold\"> Output Shape           </span>┃<span style=\"font-weight: bold\">       Param # </span>┃\n",
              "┡━━━━━━━━━━━━━━━━━━━━━━━━━━━━━━━━━╇━━━━━━━━━━━━━━━━━━━━━━━━╇━━━━━━━━━━━━━━━┩\n",
              "│ dense_3 (<span style=\"color: #0087ff; text-decoration-color: #0087ff\">Dense</span>)                 │ (<span style=\"color: #00d7ff; text-decoration-color: #00d7ff\">None</span>, <span style=\"color: #00af00; text-decoration-color: #00af00\">128</span>)            │       <span style=\"color: #00af00; text-decoration-color: #00af00\">100,480</span> │\n",
              "├─────────────────────────────────┼────────────────────────┼───────────────┤\n",
              "│ dense_4 (<span style=\"color: #0087ff; text-decoration-color: #0087ff\">Dense</span>)                 │ (<span style=\"color: #00d7ff; text-decoration-color: #00d7ff\">None</span>, <span style=\"color: #00af00; text-decoration-color: #00af00\">64</span>)             │         <span style=\"color: #00af00; text-decoration-color: #00af00\">8,256</span> │\n",
              "├─────────────────────────────────┼────────────────────────┼───────────────┤\n",
              "│ dense_5 (<span style=\"color: #0087ff; text-decoration-color: #0087ff\">Dense</span>)                 │ (<span style=\"color: #00d7ff; text-decoration-color: #00d7ff\">None</span>, <span style=\"color: #00af00; text-decoration-color: #00af00\">10</span>)             │           <span style=\"color: #00af00; text-decoration-color: #00af00\">650</span> │\n",
              "└─────────────────────────────────┴────────────────────────┴───────────────┘\n",
              "</pre>\n"
            ]
          },
          "metadata": {}
        },
        {
          "output_type": "display_data",
          "data": {
            "text/plain": [
              "\u001b[1m Total params: \u001b[0m\u001b[38;5;34m109,386\u001b[0m (427.29 KB)\n"
            ],
            "text/html": [
              "<pre style=\"white-space:pre;overflow-x:auto;line-height:normal;font-family:Menlo,'DejaVu Sans Mono',consolas,'Courier New',monospace\"><span style=\"font-weight: bold\"> Total params: </span><span style=\"color: #00af00; text-decoration-color: #00af00\">109,386</span> (427.29 KB)\n",
              "</pre>\n"
            ]
          },
          "metadata": {}
        },
        {
          "output_type": "display_data",
          "data": {
            "text/plain": [
              "\u001b[1m Trainable params: \u001b[0m\u001b[38;5;34m109,386\u001b[0m (427.29 KB)\n"
            ],
            "text/html": [
              "<pre style=\"white-space:pre;overflow-x:auto;line-height:normal;font-family:Menlo,'DejaVu Sans Mono',consolas,'Courier New',monospace\"><span style=\"font-weight: bold\"> Trainable params: </span><span style=\"color: #00af00; text-decoration-color: #00af00\">109,386</span> (427.29 KB)\n",
              "</pre>\n"
            ]
          },
          "metadata": {}
        },
        {
          "output_type": "display_data",
          "data": {
            "text/plain": [
              "\u001b[1m Non-trainable params: \u001b[0m\u001b[38;5;34m0\u001b[0m (0.00 B)\n"
            ],
            "text/html": [
              "<pre style=\"white-space:pre;overflow-x:auto;line-height:normal;font-family:Menlo,'DejaVu Sans Mono',consolas,'Courier New',monospace\"><span style=\"font-weight: bold\"> Non-trainable params: </span><span style=\"color: #00af00; text-decoration-color: #00af00\">0</span> (0.00 B)\n",
              "</pre>\n"
            ]
          },
          "metadata": {}
        }
      ]
    },
    {
      "cell_type": "markdown",
      "metadata": {
        "id": "9e8cf725"
      },
      "source": [
        "## Preprocess the data\n",
        "\n",
        "### Subtask:\n",
        "Normalize the pixel values and one-hot encode the labels."
      ]
    },
    {
      "cell_type": "code",
      "metadata": {
        "colab": {
          "base_uri": "https://localhost:8080/"
        },
        "id": "f4b244a1",
        "outputId": "d0706d99-c5d9-4046-9463-c88b62f6e2f5"
      },
      "source": [
        "from tensorflow.keras.utils import to_categorical\n",
        "\n",
        "# Normalize the pixel values\n",
        "x_train = x_train.astype('float32') / 255.0\n",
        "x_test = x_test.astype('float32') / 255.0\n",
        "\n",
        "# Reshape the images to flatten them\n",
        "x_train = x_train.reshape((x_train.shape[0], 28 * 28))\n",
        "x_test = x_test.reshape((x_test.shape[0], 28 * 28))\n",
        "\n",
        "# One-hot encode the labels\n",
        "y_train = to_categorical(y_train)\n",
        "y_test = to_categorical(y_test)\n",
        "\n",
        "print(\"Normalized and reshaped training data shape:\", x_train.shape)\n",
        "print(\"Normalized and reshaped testing data shape:\", x_test.shape)\n",
        "print(\"One-hot encoded training labels shape:\", y_train.shape)\n",
        "print(\"One-hot encoded testing labels shape:\", y_test.shape)"
      ],
      "execution_count": 11,
      "outputs": [
        {
          "output_type": "stream",
          "name": "stdout",
          "text": [
            "Normalized and reshaped training data shape: (60000, 784)\n",
            "Normalized and reshaped testing data shape: (10000, 784)\n",
            "One-hot encoded training labels shape: (60000, 10)\n",
            "One-hot encoded testing labels shape: (10000, 10)\n"
          ]
        }
      ]
    },
    {
      "cell_type": "markdown",
      "source": [
        "**Question 10: You are working on a project for a bank that wants to automatically detect\n",
        "fraudulent transactions. The dataset is large, imbalanced, and contains structured\n",
        "features like transaction amount, merchant ID, and customer location. The goal is to\n",
        "classify each transaction as fraudulent or legitimate.\n",
        "Explain your real-time data science workflow:\n",
        "● How would you design a deep learning model (perceptron or multilayer NN)?\n",
        "● Which activation function and loss function would you use, and why?\n",
        "● How would you train and evaluate the model, considering class imbalance?\n",
        "● Which optimizer would be suitable, and how would you prevent overfitting?\n",
        "(Include your Python code and output in the code box below.)**"
      ],
      "metadata": {
        "id": "hDPuUK5j-4np"
      }
    },
    {
      "cell_type": "markdown",
      "metadata": {
        "id": "01c0e4c6"
      },
      "source": [
        "## Compile the Model\n",
        "\n",
        "### Subtask:\n",
        "Configure the model for training with a suitable optimizer (e.g., Adam) and loss function (e.g., Binary Cross-Entropy), and specify relevant metrics (e.g., Precision, Recall, AUC)."
      ]
    },
    {
      "cell_type": "code",
      "metadata": {
        "colab": {
          "base_uri": "https://localhost:8080/"
        },
        "id": "1bca6be7",
        "outputId": "fc79f9dc-a126-44e1-e3b8-32392f014877"
      },
      "source": [
        "from tensorflow.keras.optimizers import Adam\n",
        "from tensorflow.keras.metrics import Precision, Recall, AUC\n",
        "\n",
        "# Compile the model\n",
        "model.compile(optimizer=Adam(),\n",
        "              loss='binary_crossentropy',  # Use binary cross-entropy for binary classification\n",
        "              metrics=['accuracy', Precision(), Recall(), AUC()]) # Include relevant metrics\n",
        "\n",
        "print(\"Model compiled successfully with Adam optimizer and Binary Cross-Entropy loss.\")"
      ],
      "execution_count": 17,
      "outputs": [
        {
          "output_type": "stream",
          "name": "stdout",
          "text": [
            "Model compiled successfully with Adam optimizer and Binary Cross-Entropy loss.\n"
          ]
        }
      ]
    },
    {
      "cell_type": "markdown",
      "metadata": {
        "id": "c51f34e8"
      },
      "source": [
        "## Build the Deep Learning Model\n",
        "\n",
        "### Subtask:\n",
        "Design a multilayer neural network using Keras with appropriate layers and activation functions for binary classification."
      ]
    },
    {
      "cell_type": "code",
      "metadata": {
        "colab": {
          "base_uri": "https://localhost:8080/",
          "height": 293
        },
        "id": "364aad0f",
        "outputId": "4bed12f6-d7dd-43c2-8f9c-fc62ef4520fb"
      },
      "source": [
        "from tensorflow.keras.models import Sequential\n",
        "from tensorflow.keras.layers import Dense\n",
        "# Assuming 'input_dim' is the number of features in your preprocessed data\n",
        "# Replace 'input_dim' with the actual number of features\n",
        "input_dim = 10 # Example: Replace with your actual feature count\n",
        "\n",
        "model = Sequential()\n",
        "model.add(Dense(128, activation='relu', input_shape=(input_dim,)))\n",
        "model.add(Dense(64, activation='relu'))\n",
        "model.add(Dense(1, activation='sigmoid')) # Output layer for binary classification\n",
        "\n",
        "model.summary()"
      ],
      "execution_count": 16,
      "outputs": [
        {
          "output_type": "stream",
          "name": "stderr",
          "text": [
            "/usr/local/lib/python3.12/dist-packages/keras/src/layers/core/dense.py:93: UserWarning: Do not pass an `input_shape`/`input_dim` argument to a layer. When using Sequential models, prefer using an `Input(shape)` object as the first layer in the model instead.\n",
            "  super().__init__(activity_regularizer=activity_regularizer, **kwargs)\n"
          ]
        },
        {
          "output_type": "display_data",
          "data": {
            "text/plain": [
              "\u001b[1mModel: \"sequential_2\"\u001b[0m\n"
            ],
            "text/html": [
              "<pre style=\"white-space:pre;overflow-x:auto;line-height:normal;font-family:Menlo,'DejaVu Sans Mono',consolas,'Courier New',monospace\"><span style=\"font-weight: bold\">Model: \"sequential_2\"</span>\n",
              "</pre>\n"
            ]
          },
          "metadata": {}
        },
        {
          "output_type": "display_data",
          "data": {
            "text/plain": [
              "┏━━━━━━━━━━━━━━━━━━━━━━━━━━━━━━━━━┳━━━━━━━━━━━━━━━━━━━━━━━━┳━━━━━━━━━━━━━━━┓\n",
              "┃\u001b[1m \u001b[0m\u001b[1mLayer (type)                   \u001b[0m\u001b[1m \u001b[0m┃\u001b[1m \u001b[0m\u001b[1mOutput Shape          \u001b[0m\u001b[1m \u001b[0m┃\u001b[1m \u001b[0m\u001b[1m      Param #\u001b[0m\u001b[1m \u001b[0m┃\n",
              "┡━━━━━━━━━━━━━━━━━━━━━━━━━━━━━━━━━╇━━━━━━━━━━━━━━━━━━━━━━━━╇━━━━━━━━━━━━━━━┩\n",
              "│ dense_6 (\u001b[38;5;33mDense\u001b[0m)                 │ (\u001b[38;5;45mNone\u001b[0m, \u001b[38;5;34m128\u001b[0m)            │         \u001b[38;5;34m1,408\u001b[0m │\n",
              "├─────────────────────────────────┼────────────────────────┼───────────────┤\n",
              "│ dense_7 (\u001b[38;5;33mDense\u001b[0m)                 │ (\u001b[38;5;45mNone\u001b[0m, \u001b[38;5;34m64\u001b[0m)             │         \u001b[38;5;34m8,256\u001b[0m │\n",
              "├─────────────────────────────────┼────────────────────────┼───────────────┤\n",
              "│ dense_8 (\u001b[38;5;33mDense\u001b[0m)                 │ (\u001b[38;5;45mNone\u001b[0m, \u001b[38;5;34m1\u001b[0m)              │            \u001b[38;5;34m65\u001b[0m │\n",
              "└─────────────────────────────────┴────────────────────────┴───────────────┘\n"
            ],
            "text/html": [
              "<pre style=\"white-space:pre;overflow-x:auto;line-height:normal;font-family:Menlo,'DejaVu Sans Mono',consolas,'Courier New',monospace\">┏━━━━━━━━━━━━━━━━━━━━━━━━━━━━━━━━━┳━━━━━━━━━━━━━━━━━━━━━━━━┳━━━━━━━━━━━━━━━┓\n",
              "┃<span style=\"font-weight: bold\"> Layer (type)                    </span>┃<span style=\"font-weight: bold\"> Output Shape           </span>┃<span style=\"font-weight: bold\">       Param # </span>┃\n",
              "┡━━━━━━━━━━━━━━━━━━━━━━━━━━━━━━━━━╇━━━━━━━━━━━━━━━━━━━━━━━━╇━━━━━━━━━━━━━━━┩\n",
              "│ dense_6 (<span style=\"color: #0087ff; text-decoration-color: #0087ff\">Dense</span>)                 │ (<span style=\"color: #00d7ff; text-decoration-color: #00d7ff\">None</span>, <span style=\"color: #00af00; text-decoration-color: #00af00\">128</span>)            │         <span style=\"color: #00af00; text-decoration-color: #00af00\">1,408</span> │\n",
              "├─────────────────────────────────┼────────────────────────┼───────────────┤\n",
              "│ dense_7 (<span style=\"color: #0087ff; text-decoration-color: #0087ff\">Dense</span>)                 │ (<span style=\"color: #00d7ff; text-decoration-color: #00d7ff\">None</span>, <span style=\"color: #00af00; text-decoration-color: #00af00\">64</span>)             │         <span style=\"color: #00af00; text-decoration-color: #00af00\">8,256</span> │\n",
              "├─────────────────────────────────┼────────────────────────┼───────────────┤\n",
              "│ dense_8 (<span style=\"color: #0087ff; text-decoration-color: #0087ff\">Dense</span>)                 │ (<span style=\"color: #00d7ff; text-decoration-color: #00d7ff\">None</span>, <span style=\"color: #00af00; text-decoration-color: #00af00\">1</span>)              │            <span style=\"color: #00af00; text-decoration-color: #00af00\">65</span> │\n",
              "└─────────────────────────────────┴────────────────────────┴───────────────┘\n",
              "</pre>\n"
            ]
          },
          "metadata": {}
        },
        {
          "output_type": "display_data",
          "data": {
            "text/plain": [
              "\u001b[1m Total params: \u001b[0m\u001b[38;5;34m9,729\u001b[0m (38.00 KB)\n"
            ],
            "text/html": [
              "<pre style=\"white-space:pre;overflow-x:auto;line-height:normal;font-family:Menlo,'DejaVu Sans Mono',consolas,'Courier New',monospace\"><span style=\"font-weight: bold\"> Total params: </span><span style=\"color: #00af00; text-decoration-color: #00af00\">9,729</span> (38.00 KB)\n",
              "</pre>\n"
            ]
          },
          "metadata": {}
        },
        {
          "output_type": "display_data",
          "data": {
            "text/plain": [
              "\u001b[1m Trainable params: \u001b[0m\u001b[38;5;34m9,729\u001b[0m (38.00 KB)\n"
            ],
            "text/html": [
              "<pre style=\"white-space:pre;overflow-x:auto;line-height:normal;font-family:Menlo,'DejaVu Sans Mono',consolas,'Courier New',monospace\"><span style=\"font-weight: bold\"> Trainable params: </span><span style=\"color: #00af00; text-decoration-color: #00af00\">9,729</span> (38.00 KB)\n",
              "</pre>\n"
            ]
          },
          "metadata": {}
        },
        {
          "output_type": "display_data",
          "data": {
            "text/plain": [
              "\u001b[1m Non-trainable params: \u001b[0m\u001b[38;5;34m0\u001b[0m (0.00 B)\n"
            ],
            "text/html": [
              "<pre style=\"white-space:pre;overflow-x:auto;line-height:normal;font-family:Menlo,'DejaVu Sans Mono',consolas,'Courier New',monospace\"><span style=\"font-weight: bold\"> Non-trainable params: </span><span style=\"color: #00af00; text-decoration-color: #00af00\">0</span> (0.00 B)\n",
              "</pre>\n"
            ]
          },
          "metadata": {}
        }
      ]
    },
    {
      "cell_type": "markdown",
      "metadata": {
        "id": "935a669d"
      },
      "source": [
        "**Real-time Data Science Workflow for Fraudulent Transaction Detection:**\n",
        "\n",
        "Here's a possible workflow for building a deep learning model to detect fraudulent transactions, considering the characteristics of the dataset and the real-time nature of the problem:\n",
        "\n",
        "**1. Data Collection and Preprocessing:**\n",
        "\n",
        "*   **Real-time Data Ingestion:** Set up a system to ingest transaction data in real-time. This could involve streaming data from transaction processing systems.\n",
        "*   **Feature Engineering:** While deep learning can learn features automatically, incorporating relevant engineered features can still improve performance. This might include:\n",
        "    *   Transaction frequency for a customer/merchant.\n",
        "    *   Average transaction amount for a customer/merchant.\n",
        "    *   Time difference between consecutive transactions.\n",
        "    *   Location-based features (e.g., distance from usual transaction locations).\n",
        "    *   Device information.\n",
        "*   **Handling Categorical Features:** Encode categorical features (like merchant ID, location) using techniques like one-hot encoding or embedding layers if using a neural network.\n",
        "*   **Handling Numerical Features:** Normalize or scale numerical features to ensure they have similar ranges, which helps in training deep learning models.\n",
        "*   **Addressing Class Imbalance:** This is a critical step. Since fraudulent transactions are rare, the dataset will be highly imbalanced. Techniques to address this include:\n",
        "    *   **Oversampling the minority class:** Duplicate or generate synthetic examples of fraudulent transactions (e.g., using SMOTE).\n",
        "    *   **Undersampling the majority class:** Randomly remove examples of legitimate transactions.\n",
        "    *   **Using class weights during training:** Assign higher weights to the minority class in the loss function.\n",
        "    *   **Using appropriate evaluation metrics:** Rely on metrics like Precision, Recall, F1-score, and Area Under the ROC Curve (AUC) instead of just accuracy, as accuracy can be misleading in imbalanced datasets.\n",
        "\n",
        "**2. Model Design (Multilayer Neural Network):**\n",
        "\n",
        "Given the structured nature of the data and the need to capture complex patterns, a multilayer neural network (MLP) is a suitable choice.\n",
        "\n",
        "*   **Input Layer:** The number of neurons in the input layer will correspond to the number of features in your preprocessed data.\n",
        "*   **Hidden Layers:** Include one or more hidden layers with an appropriate number of neurons. The number of layers and neurons will depend on the complexity of the patterns you need to capture. Start with a moderate number and experiment.\n",
        "*   **Activation Functions:**\n",
        "    *   **For Hidden Layers:** **ReLU (Rectified Linear Unit)** is generally the preferred choice due to its computational efficiency and ability to mitigate the vanishing gradient problem.\n",
        "    *   **For the Output Layer:** Since this is a binary classification problem (fraudulent or legitimate), a **Sigmoid** activation function is appropriate. It squashes the output to a value between 0 and 1, which can be interpreted as the probability of the transaction being fraudulent.\n",
        "*   **Output Layer:** A single neuron with a sigmoid activation function for binary classification.\n",
        "\n",
        "**3. Loss Function:**\n",
        "\n",
        "*   **Binary Cross-Entropy:** This is the standard loss function for binary classification problems. It measures the difference between the predicted probabilities and the actual binary labels (0 for legitimate, 1 for fraudulent). It penalizes the model more heavily for confident wrong predictions. When dealing with class imbalance, you would typically use a weighted version of binary cross-entropy to give more importance to the minority class.\n",
        "\n",
        "**4. Training the Model:**\n",
        "\n",
        "*   **Optimizer:** **Adam** is a suitable optimizer for this task. It's an adaptive learning rate optimizer that generally performs well and converges quickly on a wide range of problems. It combines the benefits of RMSprop and Momentum.\n",
        "*   **Batch Size:** Choose an appropriate batch size for training. This will depend on your computational resources and the size of your dataset.\n",
        "*   **Epochs:** Train the model for a sufficient number of epochs. Monitor the performance on a validation set to avoid overfitting.\n",
        "*   **Handling Class Imbalance during Training:** Implement one of the techniques mentioned in the preprocessing step (oversampling, undersampling, or class weights) during the training process. Keras provides options for incorporating class weights in the `model.fit()` function.\n",
        "\n",
        "**5. Evaluating the Model (Considering Class Imbalance):**\n",
        "\n",
        "*   **Evaluation Metrics:** As mentioned earlier, focus on metrics beyond accuracy:\n",
        "    *   **Precision:** Out of all transactions predicted as fraudulent, how many were actually fraudulent? (Important for minimizing false positives).\n",
        "    *   **Recall (Sensitivity):** Out of all actual fraudulent transactions, how many were correctly identified? (Important for minimizing false negatives).\n",
        "    *   **F1-Score:** The harmonic mean of Precision and Recall, providing a balance between the two.\n",
        "    *   **AUC (Area Under the ROC Curve):** Measures the model's ability to distinguish between the two classes. A higher AUC indicates better performance.\n",
        "*   **Validation Set:** Use a separate validation set to monitor the model's performance during training and tune hyperparameters.\n",
        "*   **Test Set:** Evaluate the final trained model on a completely unseen test set to get an unbiased estimate of its performance.\n",
        "\n",
        "**6. Preventing Overfitting:**\n",
        "\n",
        "Given the complexity of the model and potentially large number of parameters, preventing overfitting is crucial.\n",
        "\n",
        "*   **Regularization:**\n",
        "    *   **L1 or L2 Regularization:** Add L1 or L2 penalties to the weights of the layers to discourage them from becoming too large.\n",
        "    *   **Dropout:** Randomly set a fraction of neurons to zero during training. This forces the network to learn more robust features and prevents over-reliance on specific neurons.\n",
        "*   **Early Stopping:** Monitor the performance on the validation set and stop training when the validation loss starts to increase or validation accuracy plateaus. This prevents the model from overfitting to the training data.\n",
        "*   **Cross-validation:** Use cross-validation techniques during the model development phase to get a more reliable estimate of the model's performance and tune hyperparameters.\n",
        "*   **Simplify the Model:** If the model is too complex for the amount of data, consider reducing the number of layers or neurons.\n",
        "\n",
        "**7. Real-time Deployment and Monitoring:**\n",
        "\n",
        "*   **Deployment:** Deploy the trained model to a production environment that can process transactions in real-time. This could involve using a dedicated serving framework.\n",
        "*   **Monitoring:** Continuously monitor the model's performance in the real-time environment. Track the chosen evaluation metrics and look for signs of concept drift (when the characteristics of the data change over time), which would require retraining the model.\n",
        "*   **Feedback Loop:** Establish a feedback loop to incorporate newly labeled data (confirmed fraudulent or legitimate transactions) into the training process to keep the model up-to-date.\n",
        "\n",
        "**Python Code Example (Conceptual - requires data loading and preprocessing):**"
      ]
    }
  ]
}